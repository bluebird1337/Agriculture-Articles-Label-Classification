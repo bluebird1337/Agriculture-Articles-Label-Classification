{
 "cells": [
  {
   "cell_type": "code",
   "execution_count": 59,
   "id": "e0c61847-eb4e-4c0d-b1ef-fa7e2942409b",
   "metadata": {},
   "outputs": [],
   "source": [
    "import numpy as np\n",
    "import pandas as pd\n",
    "import matplotlib.pyplot as plt\n",
    "import seaborn as sns\n",
    "import pickle\n",
    "from ast import literal_eval\n",
    "\n",
    "from sklearn.feature_extraction.text import TfidfVectorizer\n",
    "\n",
    "%matplotlib inline\n",
    "\n",
    "# The following line is needed because of font errors\n",
    "plt.rcParams['font.sans-serif'] = 'DengXian' # if this font is not available in your system, use 'SimHei'"
   ]
  },
  {
   "cell_type": "code",
   "execution_count": 2,
   "id": "1598a79f-ef40-44d5-ab30-73092121a413",
   "metadata": {},
   "outputs": [],
   "source": [
    "def fake_tokenizer(tokens):\n",
    "    return tokens"
   ]
  },
  {
   "cell_type": "code",
   "execution_count": 3,
   "id": "7b0acd58-51f7-4d3d-a815-6d6000338627",
   "metadata": {},
   "outputs": [
    {
     "data": {
      "text/plain": [
       "<560x8438 sparse matrix of type '<class 'numpy.float64'>'\n",
       "\twith 92357 stored elements in Compressed Sparse Row format>"
      ]
     },
     "execution_count": 3,
     "metadata": {},
     "output_type": "execute_result"
    }
   ],
   "source": [
    "with open(\"tfidf_embeddings_sublinear.pkl\", \"rb\") as infile:\n",
    "    sublinear_tfidf_embedding = pickle.load(infile)\n",
    "\n",
    "with open(\"tfidf_model_sublinear.pkl\", \"rb\") as infile:\n",
    "    sublinear_tfidf_model = pickle.load(infile)\n",
    "\n",
    "sublinear_tfidf_embedding"
   ]
  },
  {
   "cell_type": "code",
   "execution_count": 4,
   "id": "53b5f311-8bbe-457d-b3ac-572fc668a653",
   "metadata": {},
   "outputs": [
    {
     "data": {
      "text/plain": [
       "TfidfVectorizer(lowercase=False, sublinear_tf=True,\n",
       "                tokenizer=<function fake_tokenizer at 0x000001FB00AD19D0>)"
      ]
     },
     "execution_count": 4,
     "metadata": {},
     "output_type": "execute_result"
    }
   ],
   "source": [
    "sublinear_tfidf_model"
   ]
  },
  {
   "cell_type": "code",
   "execution_count": 5,
   "id": "bd30dba4-f78b-47bb-ad6d-79d804bcc6c6",
   "metadata": {},
   "outputs": [
    {
     "data": {
      "text/plain": [
       "(560, 8438)"
      ]
     },
     "execution_count": 5,
     "metadata": {},
     "output_type": "execute_result"
    }
   ],
   "source": [
    "sublinear_tfidf_embedding.shape"
   ]
  },
  {
   "cell_type": "code",
   "execution_count": 6,
   "id": "3cb89d57-e41e-401f-b31a-f80d64622201",
   "metadata": {},
   "outputs": [
    {
     "name": "stderr",
     "output_type": "stream",
     "text": [
      "C:\\Users\\Daniel\\anaconda3\\envs\\dm2021_py38\\lib\\site-packages\\sklearn\\utils\\deprecation.py:87: FutureWarning: Function get_feature_names is deprecated; get_feature_names is deprecated in 1.0 and will be removed in 1.2. Please use get_feature_names_out instead.\n",
      "  warnings.warn(msg, category=FutureWarning)\n"
     ]
    }
   ],
   "source": [
    "plot_x = sublinear_tfidf_model.get_feature_names()"
   ]
  },
  {
   "cell_type": "code",
   "execution_count": 7,
   "id": "3afc7425-04ea-45f8-8b7d-2c68c1e48f47",
   "metadata": {},
   "outputs": [],
   "source": [
    "def correctly_read_csv(fname):\n",
    "    prep_df = pd.read_csv(fname, converters={\"tokens_rep\": literal_eval, \"tokens\": literal_eval, \"reference\": literal_eval})\n",
    "#     prep_df.tokens_rep = prep_df.tokens_rep.str.strip('[]').str.split(',')\n",
    "#     prep_df.tokens = prep_df.tokens.str.strip('[]').str.split(',')\n",
    "#     temp = prep_df.reference.str.strip('[]').str.split(',')\n",
    "#     cleaned_ref_entries = []\n",
    "#     for entry in temp:\n",
    "#         if entry != ['']:\n",
    "#             cleaned_ref_entries.append(entry)\n",
    "#         else:\n",
    "#             cleaned_ref_entries.append([])\n",
    "#     prep_df.reference = cleaned_ref_entries\n",
    "    return prep_df"
   ]
  },
  {
   "cell_type": "code",
   "execution_count": 8,
   "id": "e2320a15-ff7d-473c-af7c-42e64e261b4b",
   "metadata": {},
   "outputs": [],
   "source": [
    "prep_df = correctly_read_csv(\"processed_data.csv\")"
   ]
  },
  {
   "cell_type": "code",
   "execution_count": 85,
   "id": "b22bd34b-b257-45df-b50b-c0775e9de314",
   "metadata": {},
   "outputs": [],
   "source": [
    "def top_tfidf_feats(row, features, top_n=25):\n",
    "    ''' Get top n tfidf values in row and return them with their corresponding feature names.'''\n",
    "    topn_ids = np.argsort(row)[::-1][:top_n]\n",
    "    top_feats = [(features[i], row[i]) for i in topn_ids]\n",
    "    print(top_feats)\n",
    "    df = pd.DataFrame(top_feats)\n",
    "    df.columns = ['feature', 'tfidf']\n",
    "    return df"
   ]
  },
  {
   "cell_type": "code",
   "execution_count": 86,
   "id": "0e96dee9-8c0d-4cd3-b24f-7979263bebca",
   "metadata": {},
   "outputs": [],
   "source": [
    "def top_feats_in_doc(Xtr, features, row_id, top_n=25):\n",
    "    ''' Top tfidf features in specific document (matrix row) '''\n",
    "    row = np.squeeze(Xtr[row_id].toarray())\n",
    "    return top_tfidf_feats(row, features, top_n)"
   ]
  },
  {
   "cell_type": "code",
   "execution_count": 87,
   "id": "f591d061-bb82-4c0c-9365-9bc05d1de24c",
   "metadata": {},
   "outputs": [],
   "source": [
    "# Xtr is our TF-IDF embedding\n",
    "# for scores per document, use top_feats_in_doc, then specify the document ID (index, actually)\n",
    "# grp_ids=None means all documents, specify a list of group ids for specific document(s)\n",
    "def top_mean_feats(Xtr, features, grp_ids=None, min_tfidf=0.1, top_n=25):\n",
    "    ''' Return the top n features that on average are most important amongst documents in rows\n",
    "        indentified by indices in grp_ids. '''\n",
    "    if grp_ids:\n",
    "        D = Xtr[grp_ids].toarray()\n",
    "    else:\n",
    "        D = Xtr.toarray()\n",
    "\n",
    "    D[D < min_tfidf] = 0\n",
    "    tfidf_means = np.mean(D, axis=0)\n",
    "    return top_tfidf_feats(tfidf_means, features, top_n)"
   ]
  },
  {
   "cell_type": "code",
   "execution_count": 98,
   "id": "08b6b803-0932-4c50-a92f-c20791faca8c",
   "metadata": {},
   "outputs": [
    {
     "name": "stdout",
     "output_type": "stream",
     "text": [
      "[('香蕉', 0.016215689448398192), ('水稻', 0.0138880659681584), ('稻熱病', 0.013548886385534586), ('公升', 0.013399853062222706), ('葉稻熱病', 0.012797026231756103), ('穗稻熱病', 0.012503419653892218), ('稻縱捲葉蟲', 0.010836626030431154), ('白葉枯病', 0.010481759776153465), ('公頃', 0.010465177164735056), ('檬果', 0.010316991580080925), ('稻', 0.009814106814801108), ('玉荷包荔枝', 0.009231453213970208), ('稻縱', 0.009114437399477728), ('紋枯病', 0.009032481250515803), ('小黃薊馬', 0.008688571888197888), ('花薊馬', 0.008344996087186668), ('套袋', 0.008284254210037806), ('噴', 0.007964043766835488), ('蕉株', 0.007704553276590005), ('果房', 0.007514096892979871), ('果實', 0.007449675566077496), ('公斤', 0.007326387115749128), ('花苞', 0.0070819180969863785), ('臺中區', 0.007043127531914358), ('蚜蟲', 0.006925218623557617), ('橙蜜香番茄', 0.006865100745265212), ('抽穗', 0.006755953166379859), ('東方果實蠅', 0.006739118856531094), ('動力', 0.006696974427011936), ('葉部', 0.006657179466838663), ('配方', 0.006535385225204962), ('臺東場', 0.0064174024402056835), ('臺南區', 0.006394862661308132), ('蕉園', 0.006231412122725467), ('037', 0.006087118818299685), ('稀釋', 0.006022712871598712), ('桃子', 0.005998052088276314), ('中國梨', 0.005993809143472723), ('噴霧機', 0.005979788407359232), ('炭疽病', 0.005900442759010041), ('高雄場', 0.005886081828281324), ('果實蠅', 0.005830076560497493), ('戴', 0.005751630860213715), ('停止', 0.005704664184994932), ('斜紋夜盜蟲', 0.005690667082390078), ('黑星病', 0.005594647506343928), ('薊馬', 0.0055618176795928665), ('蕉農', 0.005532563294946694), ('斜紋', 0.00552777838494292), ('三賽唑可濕性粉劑', 0.005504880423721089)]\n"
     ]
    },
    {
     "name": "stderr",
     "output_type": "stream",
     "text": [
      "C:\\Users\\Daniel\\anaconda3\\envs\\dm2021_py38\\lib\\site-packages\\sklearn\\utils\\deprecation.py:87: FutureWarning: Function get_feature_names is deprecated; get_feature_names is deprecated in 1.0 and will be removed in 1.2. Please use get_feature_names_out instead.\n",
      "  warnings.warn(msg, category=FutureWarning)\n"
     ]
    }
   ],
   "source": [
    "df_importance = top_mean_feats(sublinear_tfidf_embedding, sublinear_tfidf_model.get_feature_names(), None, 0.1, 50)"
   ]
  },
  {
   "cell_type": "code",
   "execution_count": 99,
   "id": "a5bdc719-c9ae-424b-b5f2-7acab396f78b",
   "metadata": {},
   "outputs": [
    {
     "data": {
      "text/html": [
       "<div>\n",
       "<style scoped>\n",
       "    .dataframe tbody tr th:only-of-type {\n",
       "        vertical-align: middle;\n",
       "    }\n",
       "\n",
       "    .dataframe tbody tr th {\n",
       "        vertical-align: top;\n",
       "    }\n",
       "\n",
       "    .dataframe thead th {\n",
       "        text-align: right;\n",
       "    }\n",
       "</style>\n",
       "<table border=\"1\" class=\"dataframe\">\n",
       "  <thead>\n",
       "    <tr style=\"text-align: right;\">\n",
       "      <th></th>\n",
       "      <th>feature</th>\n",
       "      <th>tfidf</th>\n",
       "    </tr>\n",
       "  </thead>\n",
       "  <tbody>\n",
       "    <tr>\n",
       "      <th>0</th>\n",
       "      <td>香蕉</td>\n",
       "      <td>0.016216</td>\n",
       "    </tr>\n",
       "    <tr>\n",
       "      <th>1</th>\n",
       "      <td>水稻</td>\n",
       "      <td>0.013888</td>\n",
       "    </tr>\n",
       "    <tr>\n",
       "      <th>2</th>\n",
       "      <td>稻熱病</td>\n",
       "      <td>0.013549</td>\n",
       "    </tr>\n",
       "    <tr>\n",
       "      <th>3</th>\n",
       "      <td>公升</td>\n",
       "      <td>0.013400</td>\n",
       "    </tr>\n",
       "    <tr>\n",
       "      <th>4</th>\n",
       "      <td>葉稻熱病</td>\n",
       "      <td>0.012797</td>\n",
       "    </tr>\n",
       "    <tr>\n",
       "      <th>5</th>\n",
       "      <td>穗稻熱病</td>\n",
       "      <td>0.012503</td>\n",
       "    </tr>\n",
       "    <tr>\n",
       "      <th>6</th>\n",
       "      <td>稻縱捲葉蟲</td>\n",
       "      <td>0.010837</td>\n",
       "    </tr>\n",
       "    <tr>\n",
       "      <th>7</th>\n",
       "      <td>白葉枯病</td>\n",
       "      <td>0.010482</td>\n",
       "    </tr>\n",
       "    <tr>\n",
       "      <th>8</th>\n",
       "      <td>公頃</td>\n",
       "      <td>0.010465</td>\n",
       "    </tr>\n",
       "    <tr>\n",
       "      <th>9</th>\n",
       "      <td>檬果</td>\n",
       "      <td>0.010317</td>\n",
       "    </tr>\n",
       "    <tr>\n",
       "      <th>10</th>\n",
       "      <td>稻</td>\n",
       "      <td>0.009814</td>\n",
       "    </tr>\n",
       "    <tr>\n",
       "      <th>11</th>\n",
       "      <td>玉荷包荔枝</td>\n",
       "      <td>0.009231</td>\n",
       "    </tr>\n",
       "    <tr>\n",
       "      <th>12</th>\n",
       "      <td>稻縱</td>\n",
       "      <td>0.009114</td>\n",
       "    </tr>\n",
       "    <tr>\n",
       "      <th>13</th>\n",
       "      <td>紋枯病</td>\n",
       "      <td>0.009032</td>\n",
       "    </tr>\n",
       "    <tr>\n",
       "      <th>14</th>\n",
       "      <td>小黃薊馬</td>\n",
       "      <td>0.008689</td>\n",
       "    </tr>\n",
       "    <tr>\n",
       "      <th>15</th>\n",
       "      <td>花薊馬</td>\n",
       "      <td>0.008345</td>\n",
       "    </tr>\n",
       "    <tr>\n",
       "      <th>16</th>\n",
       "      <td>套袋</td>\n",
       "      <td>0.008284</td>\n",
       "    </tr>\n",
       "    <tr>\n",
       "      <th>17</th>\n",
       "      <td>噴</td>\n",
       "      <td>0.007964</td>\n",
       "    </tr>\n",
       "    <tr>\n",
       "      <th>18</th>\n",
       "      <td>蕉株</td>\n",
       "      <td>0.007705</td>\n",
       "    </tr>\n",
       "    <tr>\n",
       "      <th>19</th>\n",
       "      <td>果房</td>\n",
       "      <td>0.007514</td>\n",
       "    </tr>\n",
       "    <tr>\n",
       "      <th>20</th>\n",
       "      <td>果實</td>\n",
       "      <td>0.007450</td>\n",
       "    </tr>\n",
       "    <tr>\n",
       "      <th>21</th>\n",
       "      <td>公斤</td>\n",
       "      <td>0.007326</td>\n",
       "    </tr>\n",
       "    <tr>\n",
       "      <th>22</th>\n",
       "      <td>花苞</td>\n",
       "      <td>0.007082</td>\n",
       "    </tr>\n",
       "    <tr>\n",
       "      <th>23</th>\n",
       "      <td>臺中區</td>\n",
       "      <td>0.007043</td>\n",
       "    </tr>\n",
       "    <tr>\n",
       "      <th>24</th>\n",
       "      <td>蚜蟲</td>\n",
       "      <td>0.006925</td>\n",
       "    </tr>\n",
       "    <tr>\n",
       "      <th>25</th>\n",
       "      <td>橙蜜香番茄</td>\n",
       "      <td>0.006865</td>\n",
       "    </tr>\n",
       "    <tr>\n",
       "      <th>26</th>\n",
       "      <td>抽穗</td>\n",
       "      <td>0.006756</td>\n",
       "    </tr>\n",
       "    <tr>\n",
       "      <th>27</th>\n",
       "      <td>東方果實蠅</td>\n",
       "      <td>0.006739</td>\n",
       "    </tr>\n",
       "    <tr>\n",
       "      <th>28</th>\n",
       "      <td>動力</td>\n",
       "      <td>0.006697</td>\n",
       "    </tr>\n",
       "    <tr>\n",
       "      <th>29</th>\n",
       "      <td>葉部</td>\n",
       "      <td>0.006657</td>\n",
       "    </tr>\n",
       "    <tr>\n",
       "      <th>30</th>\n",
       "      <td>配方</td>\n",
       "      <td>0.006535</td>\n",
       "    </tr>\n",
       "    <tr>\n",
       "      <th>31</th>\n",
       "      <td>臺東場</td>\n",
       "      <td>0.006417</td>\n",
       "    </tr>\n",
       "    <tr>\n",
       "      <th>32</th>\n",
       "      <td>臺南區</td>\n",
       "      <td>0.006395</td>\n",
       "    </tr>\n",
       "    <tr>\n",
       "      <th>33</th>\n",
       "      <td>蕉園</td>\n",
       "      <td>0.006231</td>\n",
       "    </tr>\n",
       "    <tr>\n",
       "      <th>34</th>\n",
       "      <td>037</td>\n",
       "      <td>0.006087</td>\n",
       "    </tr>\n",
       "    <tr>\n",
       "      <th>35</th>\n",
       "      <td>稀釋</td>\n",
       "      <td>0.006023</td>\n",
       "    </tr>\n",
       "    <tr>\n",
       "      <th>36</th>\n",
       "      <td>桃子</td>\n",
       "      <td>0.005998</td>\n",
       "    </tr>\n",
       "    <tr>\n",
       "      <th>37</th>\n",
       "      <td>中國梨</td>\n",
       "      <td>0.005994</td>\n",
       "    </tr>\n",
       "    <tr>\n",
       "      <th>38</th>\n",
       "      <td>噴霧機</td>\n",
       "      <td>0.005980</td>\n",
       "    </tr>\n",
       "    <tr>\n",
       "      <th>39</th>\n",
       "      <td>炭疽病</td>\n",
       "      <td>0.005900</td>\n",
       "    </tr>\n",
       "    <tr>\n",
       "      <th>40</th>\n",
       "      <td>高雄場</td>\n",
       "      <td>0.005886</td>\n",
       "    </tr>\n",
       "    <tr>\n",
       "      <th>41</th>\n",
       "      <td>果實蠅</td>\n",
       "      <td>0.005830</td>\n",
       "    </tr>\n",
       "    <tr>\n",
       "      <th>42</th>\n",
       "      <td>戴</td>\n",
       "      <td>0.005752</td>\n",
       "    </tr>\n",
       "    <tr>\n",
       "      <th>43</th>\n",
       "      <td>停止</td>\n",
       "      <td>0.005705</td>\n",
       "    </tr>\n",
       "    <tr>\n",
       "      <th>44</th>\n",
       "      <td>斜紋夜盜蟲</td>\n",
       "      <td>0.005691</td>\n",
       "    </tr>\n",
       "    <tr>\n",
       "      <th>45</th>\n",
       "      <td>黑星病</td>\n",
       "      <td>0.005595</td>\n",
       "    </tr>\n",
       "    <tr>\n",
       "      <th>46</th>\n",
       "      <td>薊馬</td>\n",
       "      <td>0.005562</td>\n",
       "    </tr>\n",
       "    <tr>\n",
       "      <th>47</th>\n",
       "      <td>蕉農</td>\n",
       "      <td>0.005533</td>\n",
       "    </tr>\n",
       "    <tr>\n",
       "      <th>48</th>\n",
       "      <td>斜紋</td>\n",
       "      <td>0.005528</td>\n",
       "    </tr>\n",
       "    <tr>\n",
       "      <th>49</th>\n",
       "      <td>三賽唑可濕性粉劑</td>\n",
       "      <td>0.005505</td>\n",
       "    </tr>\n",
       "  </tbody>\n",
       "</table>\n",
       "</div>"
      ],
      "text/plain": [
       "     feature     tfidf\n",
       "0         香蕉  0.016216\n",
       "1         水稻  0.013888\n",
       "2        稻熱病  0.013549\n",
       "3         公升  0.013400\n",
       "4       葉稻熱病  0.012797\n",
       "5       穗稻熱病  0.012503\n",
       "6      稻縱捲葉蟲  0.010837\n",
       "7       白葉枯病  0.010482\n",
       "8         公頃  0.010465\n",
       "9         檬果  0.010317\n",
       "10         稻  0.009814\n",
       "11     玉荷包荔枝  0.009231\n",
       "12        稻縱  0.009114\n",
       "13       紋枯病  0.009032\n",
       "14      小黃薊馬  0.008689\n",
       "15       花薊馬  0.008345\n",
       "16        套袋  0.008284\n",
       "17         噴  0.007964\n",
       "18        蕉株  0.007705\n",
       "19        果房  0.007514\n",
       "20        果實  0.007450\n",
       "21        公斤  0.007326\n",
       "22        花苞  0.007082\n",
       "23       臺中區  0.007043\n",
       "24        蚜蟲  0.006925\n",
       "25     橙蜜香番茄  0.006865\n",
       "26        抽穗  0.006756\n",
       "27     東方果實蠅  0.006739\n",
       "28        動力  0.006697\n",
       "29        葉部  0.006657\n",
       "30        配方  0.006535\n",
       "31       臺東場  0.006417\n",
       "32       臺南區  0.006395\n",
       "33        蕉園  0.006231\n",
       "34       037  0.006087\n",
       "35        稀釋  0.006023\n",
       "36        桃子  0.005998\n",
       "37       中國梨  0.005994\n",
       "38       噴霧機  0.005980\n",
       "39       炭疽病  0.005900\n",
       "40       高雄場  0.005886\n",
       "41       果實蠅  0.005830\n",
       "42         戴  0.005752\n",
       "43        停止  0.005705\n",
       "44     斜紋夜盜蟲  0.005691\n",
       "45       黑星病  0.005595\n",
       "46        薊馬  0.005562\n",
       "47        蕉農  0.005533\n",
       "48        斜紋  0.005528\n",
       "49  三賽唑可濕性粉劑  0.005505"
      ]
     },
     "execution_count": 99,
     "metadata": {},
     "output_type": "execute_result"
    }
   ],
   "source": [
    "df_importance"
   ]
  },
  {
   "cell_type": "code",
   "execution_count": 108,
   "id": "c92bcd36-c1ac-41e6-b4a5-900649c02b6f",
   "metadata": {},
   "outputs": [],
   "source": [
    "def plot_tfidf_classfeats_h(dfs):\n",
    "    ''' Plot the data frames returned by the function plot_tfidf_classfeats(). '''\n",
    "    fig = plt.figure(figsize=(12, 12), facecolor=\"w\")\n",
    "    x = np.arange(len(dfs[0]))\n",
    "    for i, df in enumerate(dfs):\n",
    "        ax = fig.add_subplot(1, len(dfs), i+1)\n",
    "        ax.spines[\"top\"].set_visible(False)\n",
    "        ax.spines[\"right\"].set_visible(False)\n",
    "        ax.set_frame_on(False)\n",
    "        ax.get_xaxis().tick_bottom()\n",
    "        ax.get_yaxis().tick_left()\n",
    "        ax.set_xlabel(\"Mean Tf-Idf Score\", labelpad=16, fontsize=14)\n",
    "        ax.ticklabel_format(axis='x', style='sci', scilimits=(-2,2))\n",
    "        ax.barh(x, df.tfidf, align='center', color='#3F5D7D')\n",
    "        ax.set_yticks(x)\n",
    "        ax.set_ylim([-1, x[-1]+1])\n",
    "        yticks = ax.set_yticklabels(df.feature)\n",
    "        \n",
    "        for label in (ax.get_xticklabels() + ax.get_yticklabels()):\n",
    "            label.set_fontsize(14)\n",
    "        \n",
    "        plt.subplots_adjust(bottom=0.09, right=0.97, left=0.15, top=2, wspace=0.52)\n",
    "    plt.show()"
   ]
  },
  {
   "cell_type": "code",
   "execution_count": 109,
   "id": "e09fe95d-cb52-4f69-926f-3b24c155b34b",
   "metadata": {},
   "outputs": [
    {
     "data": {
      "image/png": "[encoded data removed]",
      "text/plain": [
       "<Figure size 864x864 with 1 Axes>"
      ]
     },
     "metadata": {},
     "output_type": "display_data"
    }
   ],
   "source": [
    "plot_tfidf_classfeats_h([df_importance])"
   ]
  },
  {
   "cell_type": "code",
   "execution_count": null,
   "id": "519f6a40-f212-44bf-94bb-a63af4eff56e",
   "metadata": {},
   "outputs": [],
   "source": []
  }
 ],
 "metadata": {
  "kernelspec": {
   "display_name": "Python 3.8 (dm2021_py38)",
   "language": "python",
   "name": "dm2021_py38"
  },
  "language_info": {
   "codemirror_mode": {
    "name": "ipython",
    "version": 3
   },
   "file_extension": ".py",
   "mimetype": "text/x-python",
   "name": "python",
   "nbconvert_exporter": "python",
   "pygments_lexer": "ipython3",
   "version": "3.8.12"
  },
  "widgets": {
   "application/vnd.jupyter.widget-state+json": {
    "state": {},
    "version_major": 2,
    "version_minor": 0
   }
  }
 },
 "nbformat": 4,
 "nbformat_minor": 5
}
