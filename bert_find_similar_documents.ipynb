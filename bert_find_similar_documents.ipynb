{
 "cells": [
  {
   "cell_type": "code",
   "execution_count": 66,
   "id": "a1d0d94e",
   "metadata": {},
   "outputs": [],
   "source": [
    "MODEL_PATH = 'bert_chinese_doc_pair_ce_classifier'"
   ]
  },
  {
   "cell_type": "code",
   "execution_count": 67,
   "id": "a085654b",
   "metadata": {},
   "outputs": [],
   "source": [
    "from sentence_transformers import CrossEncoder\n",
    "from ast import literal_eval\n",
    "import pandas as pd"
   ]
  },
  {
   "cell_type": "code",
   "execution_count": 68,
   "id": "a14757a0",
   "metadata": {},
   "outputs": [],
   "source": [
    "bert_model = CrossEncoder(MODEL_PATH)"
   ]
  },
  {
   "cell_type": "code",
   "execution_count": 69,
   "id": "a9357752",
   "metadata": {},
   "outputs": [],
   "source": [
    "def correctly_read_csv(fname):\n",
    "    prep_df = pd.read_csv(fname, converters={\"tokens_rep\": literal_eval, \"tokens\": literal_eval, \"reference\": literal_eval})\n",
    "    return prep_df"
   ]
  },
  {
   "cell_type": "code",
   "execution_count": 9,
   "id": "467393f7",
   "metadata": {},
   "outputs": [],
   "source": [
    "test_df = correctly_read_csv(\"public_test_data_processed.csv\")"
   ]
  },
  {
   "cell_type": "code",
   "execution_count": 10,
   "id": "f76b6071",
   "metadata": {},
   "outputs": [
    {
     "data": {
      "text/html": [
       "<div>\n",
       "<style scoped>\n",
       "    .dataframe tbody tr th:only-of-type {\n",
       "        vertical-align: middle;\n",
       "    }\n",
       "\n",
       "    .dataframe tbody tr th {\n",
       "        vertical-align: top;\n",
       "    }\n",
       "\n",
       "    .dataframe thead th {\n",
       "        text-align: right;\n",
       "    }\n",
       "</style>\n",
       "<table border=\"1\" class=\"dataframe\">\n",
       "  <thead>\n",
       "    <tr style=\"text-align: right;\">\n",
       "      <th></th>\n",
       "      <th>doc_index</th>\n",
       "      <th>raw_text</th>\n",
       "      <th>tokens_rep</th>\n",
       "      <th>tokens</th>\n",
       "    </tr>\n",
       "  </thead>\n",
       "  <tbody>\n",
       "    <tr>\n",
       "      <th>0</th>\n",
       "      <td>1053</td>\n",
       "      <td>近來氣候高溫多濕相當適合草莓苗期炭疽病發生籲請農友注意防治適期苗栗區農改場防檢局及田邊好幫手...</td>\n",
       "      <td>[近來, 氣候, 高溫, 多, 濕, 相當, 適合, 草莓苗期, 苗期, 炭疽病, 發生, ...</td>\n",
       "      <td>[近來, 氣候, 高溫, 多, 濕, 相當, 適合, 草莓苗期, 炭疽病, 發生, 籲請, ...</td>\n",
       "    </tr>\n",
       "    <tr>\n",
       "      <th>1</th>\n",
       "      <td>1084</td>\n",
       "      <td>白粉病好發期呼籲請農友加強防治工作雲林縣政府防檢局及田間好幫手關心您白粉病主要出現於秋季至隔...</td>\n",
       "      <td>[白粉病, 好, 發期, 呼籲, 請, 農友, 加強, 防治, 工作, 雲林, 縣, 政府,...</td>\n",
       "      <td>[白粉病, 好, 發期, 呼籲, 請, 農友, 加強, 防治, 工作, 雲林, 縣, 政府,...</td>\n",
       "    </tr>\n",
       "    <tr>\n",
       "      <th>2</th>\n",
       "      <td>538</td>\n",
       "      <td>水稻即將進入抽穗期氣候持續陰晴不定適合穗稻熱病的發生臺中區農業改良場籲請農友掌握防治時機減少...</td>\n",
       "      <td>[水稻, 即將, 進入, 抽穗期, 氣候, 持續, 陰晴, 不定, 適合, 穗稻, 熱病, ...</td>\n",
       "      <td>[水稻, 即將, 進入, 抽穗期, 氣候, 持續, 陰晴, 不定, 適合, 穗稻, 熱病, ...</td>\n",
       "    </tr>\n",
       "    <tr>\n",
       "      <th>3</th>\n",
       "      <td>1251</td>\n",
       "      <td>請宣導蕉農於蕉株抽穗期間適時做好花薊馬防治作業俾確保生產外觀優良品質香蕉香蕉花薊馬蟲口整年均...</td>\n",
       "      <td>[請, 宣導, 蕉農, 於, 蕉株, 抽穗, 期間, 適時, 做好, 花薊馬, 防治, 作業...</td>\n",
       "      <td>[請, 宣導, 蕉農, 於, 蕉株, 抽穗, 期間, 適時, 做好, 花薊馬, 防治, 作業...</td>\n",
       "    </tr>\n",
       "    <tr>\n",
       "      <th>4</th>\n",
       "      <td>909</td>\n",
       "      <td>發佈水象鼻蟲螟蟲及縱捲葉蟲發生警報水稻病蟲害發生警報中華民國九十三年八月六日第二號行政院農業...</td>\n",
       "      <td>[發佈, 水象, 鼻蟲, 螟蟲, 及, 縱稻稻, 縱捲, 葉蟲, 發生, 警報, 水稻, 病...</td>\n",
       "      <td>[發佈, 水象, 鼻蟲, 螟蟲, 及, 縱捲, 葉蟲, 發生, 警報, 水稻, 病蟲害, 發...</td>\n",
       "    </tr>\n",
       "  </tbody>\n",
       "</table>\n",
       "</div>"
      ],
      "text/plain": [
       "   doc_index                                           raw_text  \\\n",
       "0       1053  近來氣候高溫多濕相當適合草莓苗期炭疽病發生籲請農友注意防治適期苗栗區農改場防檢局及田邊好幫手...   \n",
       "1       1084  白粉病好發期呼籲請農友加強防治工作雲林縣政府防檢局及田間好幫手關心您白粉病主要出現於秋季至隔...   \n",
       "2        538  水稻即將進入抽穗期氣候持續陰晴不定適合穗稻熱病的發生臺中區農業改良場籲請農友掌握防治時機減少...   \n",
       "3       1251  請宣導蕉農於蕉株抽穗期間適時做好花薊馬防治作業俾確保生產外觀優良品質香蕉香蕉花薊馬蟲口整年均...   \n",
       "4        909  發佈水象鼻蟲螟蟲及縱捲葉蟲發生警報水稻病蟲害發生警報中華民國九十三年八月六日第二號行政院農業...   \n",
       "\n",
       "                                          tokens_rep  \\\n",
       "0  [近來, 氣候, 高溫, 多, 濕, 相當, 適合, 草莓苗期, 苗期, 炭疽病, 發生, ...   \n",
       "1  [白粉病, 好, 發期, 呼籲, 請, 農友, 加強, 防治, 工作, 雲林, 縣, 政府,...   \n",
       "2  [水稻, 即將, 進入, 抽穗期, 氣候, 持續, 陰晴, 不定, 適合, 穗稻, 熱病, ...   \n",
       "3  [請, 宣導, 蕉農, 於, 蕉株, 抽穗, 期間, 適時, 做好, 花薊馬, 防治, 作業...   \n",
       "4  [發佈, 水象, 鼻蟲, 螟蟲, 及, 縱稻稻, 縱捲, 葉蟲, 發生, 警報, 水稻, 病...   \n",
       "\n",
       "                                              tokens  \n",
       "0  [近來, 氣候, 高溫, 多, 濕, 相當, 適合, 草莓苗期, 炭疽病, 發生, 籲請, ...  \n",
       "1  [白粉病, 好, 發期, 呼籲, 請, 農友, 加強, 防治, 工作, 雲林, 縣, 政府,...  \n",
       "2  [水稻, 即將, 進入, 抽穗期, 氣候, 持續, 陰晴, 不定, 適合, 穗稻, 熱病, ...  \n",
       "3  [請, 宣導, 蕉農, 於, 蕉株, 抽穗, 期間, 適時, 做好, 花薊馬, 防治, 作業...  \n",
       "4  [發佈, 水象, 鼻蟲, 螟蟲, 及, 縱捲, 葉蟲, 發生, 警報, 水稻, 病蟲害, 發...  "
      ]
     },
     "execution_count": 10,
     "metadata": {},
     "output_type": "execute_result"
    }
   ],
   "source": [
    "test_df.head()"
   ]
  },
  {
   "cell_type": "code",
   "execution_count": 12,
   "id": "fd650f7d",
   "metadata": {},
   "outputs": [],
   "source": [
    "def remove_n_t_loop(strings):\n",
    "    processed_strings = []\n",
    "    for string in strings:\n",
    "        string = string.replace('\\n','')\n",
    "        string = string.replace('\\t','')\n",
    "        string = string.replace('\\r','')\n",
    "        processed_strings.append(string)\n",
    "    return processed_strings"
   ]
  },
  {
   "cell_type": "code",
   "execution_count": 13,
   "id": "edb43b8d",
   "metadata": {},
   "outputs": [],
   "source": [
    "test_df['raw_text'] = remove_n_t_loop(test_df['raw_text'])"
   ]
  },
  {
   "cell_type": "code",
   "execution_count": 70,
   "id": "f00c98d6",
   "metadata": {},
   "outputs": [
    {
     "data": {
      "text/plain": [
       "array([0.00092127], dtype=float32)"
      ]
     },
     "execution_count": 70,
     "metadata": {},
     "output_type": "execute_result"
    }
   ],
   "source": [
    "bert_model.predict([[test_df['raw_text'][0], test_df['raw_text'][1]]])"
   ]
  },
  {
   "cell_type": "code",
   "execution_count": 15,
   "id": "530c9573",
   "metadata": {},
   "outputs": [
    {
     "data": {
      "text/plain": [
       "'近來氣候高溫多濕相當適合草莓苗期炭疽病發生籲請農友注意防治適期苗栗區農改場防檢局及田邊好幫手關心您近來氣候高溫多濕相當適合草莓苗期炭疽病發生籲請農友注意防治適期防治應注意事項:(1)請加強母株的防治若育苗區母株已呈現萎凋狀請徹底清除勿留在園區(2)去除老葉之傷口為炭疽病菌侵入冠部之重要關鍵老葉去除後應施用藥劑以防病菌感染育苗區之葉片走蔓若有炭疽病斑請將較嚴重之葉片或走蔓去除並於24小時內配合藥劑之噴施(3)噴施藥劑時須特別注意冠部亦應有足夠之劑量因冠部若腐壞會造成植株萎凋死亡農友如果有任何技術上的疑問可以直接洽詢苗栗區農業改良場諮詢專線037-236583或病蟲害診斷專線037-236619或各鄉鎮市公所農會防治藥劑及方法(1)53腐絕快得寧可濕性粉劑1,200倍(2)24.9%待克利乳劑3,000倍(3)24.9%待克利水懸劑3,000倍(4)23.6%百克敏乳劑3,000倍'"
      ]
     },
     "execution_count": 15,
     "metadata": {},
     "output_type": "execute_result"
    }
   ],
   "source": [
    "test_df.raw_text[0]"
   ]
  },
  {
   "cell_type": "code",
   "execution_count": 18,
   "id": "05c3d9f9",
   "metadata": {},
   "outputs": [],
   "source": [
    "#embeddings = bert_model.encode(test_df['raw_text'], batch_size=4)"
   ]
  },
  {
   "cell_type": "code",
   "execution_count": 19,
   "id": "7d7ab218",
   "metadata": {},
   "outputs": [
    {
     "data": {
      "text/plain": [
       "421"
      ]
     },
     "execution_count": 19,
     "metadata": {},
     "output_type": "execute_result"
    }
   ],
   "source": [
    "#len(embeddings)"
   ]
  },
  {
   "cell_type": "code",
   "execution_count": 22,
   "id": "6c25853f",
   "metadata": {},
   "outputs": [
    {
     "data": {
      "text/plain": [
       "(421, 768)"
      ]
     },
     "execution_count": 22,
     "metadata": {},
     "output_type": "execute_result"
    }
   ],
   "source": [
    "embeddings.shape"
   ]
  },
  {
   "cell_type": "code",
   "execution_count": 23,
   "id": "63cfc1c4",
   "metadata": {},
   "outputs": [
    {
     "data": {
      "text/plain": [
       "(768,)"
      ]
     },
     "execution_count": 23,
     "metadata": {},
     "output_type": "execute_result"
    }
   ],
   "source": [
    "embeddings[0].shape"
   ]
  },
  {
   "cell_type": "code",
   "execution_count": 71,
   "id": "a6d49691",
   "metadata": {},
   "outputs": [],
   "source": [
    "THRESH = 0.00184854446"
   ]
  },
  {
   "cell_type": "code",
   "execution_count": 75,
   "id": "6e08d311",
   "metadata": {},
   "outputs": [],
   "source": [
    "def get_all_pair_scores(doc_ind_list, texts):\n",
    "    all_pair_scores = []\n",
    "    for i in range(len(texts)):\n",
    "        for j in range(len(texts)):\n",
    "            if i != j:\n",
    "                prob = bert_model.predict([[texts[i], texts[j]]])[0]\n",
    "                all_pair_scores.append([doc_ind_list[i], doc_ind_list[j], prob])\n",
    "    return all_pair_scores"
   ]
  },
  {
   "cell_type": "code",
   "execution_count": 73,
   "id": "0bd1af65",
   "metadata": {},
   "outputs": [],
   "source": [
    "def get_pairs_meet_thresh(all_pairs):\n",
    "    all_pairs_meet_thresh = []\n",
    "    for lst in all_pairs:\n",
    "        if lst[-1] > THRESH:\n",
    "            all_pairs_meet_thresh.append(lst[:2])\n",
    "    return all_pairs_meet_thresh"
   ]
  },
  {
   "cell_type": "code",
   "execution_count": null,
   "id": "b3104f7f",
   "metadata": {},
   "outputs": [],
   "source": [
    "all_scores = get_all_pair_scores(test_df.doc_index, test_df.raw_text)"
   ]
  },
  {
   "cell_type": "code",
   "execution_count": 58,
   "id": "6d38c87d",
   "metadata": {},
   "outputs": [],
   "source": [
    "from sklearn.metrics.pairwise import cosine_similarity"
   ]
  },
  {
   "cell_type": "code",
   "execution_count": 59,
   "id": "c80b7731",
   "metadata": {},
   "outputs": [],
   "source": [
    "def get_all_similar_pairs(doc_ind_list, embeddings):\n",
    "    doc_pairs_meet_thresh = []\n",
    "    for i in range(len(embeddings)):\n",
    "        for j in range(len(embeddings)):\n",
    "            if i != j:\n",
    "                similarity = cosine_similarity([embeddings[i]],\n",
    "                                               [embeddings[j]])[0][0]\n",
    "                if similarity >= THRESH:\n",
    "                    doc_pairs_meet_thresh.append([doc_ind_list[i], doc_ind_list[j]])\n",
    "    return doc_pairs_meet_thresh"
   ]
  },
  {
   "cell_type": "code",
   "execution_count": 60,
   "id": "21f61ac4",
   "metadata": {},
   "outputs": [],
   "source": [
    "similar_pairs = get_all_similar_pairs(test_df['doc_index'], embeddings)"
   ]
  },
  {
   "cell_type": "code",
   "execution_count": 61,
   "id": "073391ba",
   "metadata": {},
   "outputs": [
    {
     "data": {
      "text/plain": [
       "670"
      ]
     },
     "execution_count": 61,
     "metadata": {},
     "output_type": "execute_result"
    }
   ],
   "source": [
    "len(similar_pairs)"
   ]
  },
  {
   "cell_type": "code",
   "execution_count": 62,
   "id": "10dc2fb2",
   "metadata": {},
   "outputs": [],
   "source": [
    "import csv"
   ]
  },
  {
   "cell_type": "code",
   "execution_count": 63,
   "id": "0b457d66",
   "metadata": {},
   "outputs": [],
   "source": [
    "def write_all_pairs_ids_to_csv(pairs, fname):\n",
    "    with open(fname, 'w') as f:\n",
    "        writer = csv.writer(f)\n",
    "        writer.writerow(['Test', 'Reference'])\n",
    "        for pair in pairs:\n",
    "            writer.writerow(pair)"
   ]
  },
  {
   "cell_type": "code",
   "execution_count": 64,
   "id": "ffe8c4cb",
   "metadata": {},
   "outputs": [],
   "source": [
    "fname = 'bert_test_99thresh.csv'"
   ]
  },
  {
   "cell_type": "code",
   "execution_count": 65,
   "id": "bed94e0e",
   "metadata": {},
   "outputs": [],
   "source": [
    "write_all_pairs_ids_to_csv(similar_pairs, fname)"
   ]
  },
  {
   "cell_type": "code",
   "execution_count": null,
   "id": "cac03a7f",
   "metadata": {},
   "outputs": [],
   "source": []
  }
 ],
 "metadata": {
  "kernelspec": {
   "display_name": "Python 3 (ipykernel)",
   "language": "python",
   "name": "python3"
  },
  "language_info": {
   "codemirror_mode": {
    "name": "ipython",
    "version": 3
   },
   "file_extension": ".py",
   "mimetype": "text/x-python",
   "name": "python",
   "nbconvert_exporter": "python",
   "pygments_lexer": "ipython3",
   "version": "3.7.4"
  }
 },
 "nbformat": 4,
 "nbformat_minor": 5
}
